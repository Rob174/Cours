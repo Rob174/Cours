{
  "nbformat": 4,
  "nbformat_minor": 0,
  "metadata": {
    "kernelspec": {
      "display_name": "Python 3",
      "language": "python",
      "name": "python3"
    },
    "language_info": {
      "codemirror_mode": {
        "name": "ipython",
        "version": 3
      },
      "file_extension": ".py",
      "mimetype": "text/x-python",
      "name": "python",
      "nbconvert_exporter": "python",
      "pygments_lexer": "ipython3",
      "version": "3.7.3"
    },
    "latex_envs": {
      "LaTeX_envs_menu_present": true,
      "autoclose": false,
      "autocomplete": true,
      "bibliofile": "biblio.bib",
      "cite_by": "apalike",
      "current_citInitial": 1,
      "eqLabelWithNumbers": true,
      "eqNumInitial": 1,
      "hotkeys": {
        "equation": "Ctrl-E",
        "itemize": "Ctrl-I"
      },
      "labels_anchors": false,
      "latex_user_defs": false,
      "report_style_numbering": false,
      "user_envs_cfg": false
    },
    "colab": {
      "name": "tp rendre 15 janvier.ipynb",
      "provenance": []
    }
  },
  "cells": [
    {
      "cell_type": "markdown",
      "metadata": {
        "id": "Od0by-dy-Ngb",
        "colab_type": "text"
      },
      "source": [
        "# Programmation linéaire - Travaux pratiques A rendre pour le 15 janvier à"
      ]
    },
    {
      "cell_type": "markdown",
      "metadata": {
        "id": "o5aV83bO-Ngp",
        "colab_type": "text"
      },
      "source": [
        "tom.pontoleav@laas.fr\n",
        "laurent.chasserat@laas.fr"
      ]
    },
    {
      "cell_type": "markdown",
      "metadata": {
        "id": "GG3Rm6P9-Ngu",
        "colab_type": "text"
      },
      "source": [
        "**<font color=\"red\">Groupe :</font>** 3 MIC C\n",
        "\n",
        "**<font color=\"red\">Étudiants :</font>** Robin Moine / ..."
      ]
    },
    {
      "cell_type": "code",
      "metadata": {
        "id": "LMt6_N1QVlFI",
        "colab_type": "code",
        "colab": {}
      },
      "source": [
        "#Cellule permettant sur Google Colab le rendu de Latex dans les sorties de cellules de code\n",
        "from IPython.display import HTML\n",
        "def typeset():\n",
        "  \"\"\"MathJax initialization for the current cell.\n",
        "  \n",
        "  This installs and configures MathJax for the current output.\n",
        "  \"\"\"\n",
        "  display(HTML('''\n",
        "      <script src=\"https://www.gstatic.com/external_hosted/mathjax/latest/MathJax.js?config=TeX-AMS_HTML-full,Safe&delayStartupUntil=configured\"></script>\n",
        "      <script>\n",
        "        (() => {\n",
        "          const mathjax = window.MathJax;\n",
        "          mathjax.Hub.Config({\n",
        "          'tex2jax': {\n",
        "            'inlineMath': [['$', '$'], ['\\\\(', '\\\\)']],\n",
        "            'displayMath': [['$$', '$$'], ['\\\\[', '\\\\]']],\n",
        "            'processEscapes': true,\n",
        "            'processEnvironments': true,\n",
        "            'skipTags': ['script', 'noscript', 'style', 'textarea', 'code'],\n",
        "            'displayAlign': 'center',\n",
        "          },\n",
        "          'HTML-CSS': {\n",
        "            'styles': {'.MathJax_Display': {'margin': 0}},\n",
        "            'linebreaks': {'automatic': true},\n",
        "            // Disable to prevent OTF font loading, which aren't part of our\n",
        "            // distribution.\n",
        "            'imageFont': null,\n",
        "          },\n",
        "          'messageStyle': 'none'\n",
        "        });\n",
        "        mathjax.Hub.Configured();\n",
        "      })();\n",
        "      </script>\n",
        "      '''))\n"
      ],
      "execution_count": 0,
      "outputs": []
    },
    {
      "cell_type": "markdown",
      "metadata": {
        "id": "jx6echLs-Ngv",
        "colab_type": "text"
      },
      "source": [
        "# 1. Introduction\n",
        "\n",
        "Le but de ces travaux pratiques est d'implémenter l'algorithme du simplexe en python en utilisant la méthode des dictionnaires vue en cours."
      ]
    },
    {
      "cell_type": "markdown",
      "metadata": {
        "id": "leIfG8uL-Ngw",
        "colab_type": "text"
      },
      "source": [
        "## 1.1. Rappels de cours\n",
        "\n",
        "Soit le programme linéaire $(\\mathcal{P})$ suivant:\n",
        "\n",
        "$$\n",
        "\\mathcal{P}=\\left(\\begin{array}{rrrlrlrl}\n",
        "\\max & z = & 4 x_1 & + &  3x_2 & \\\\\n",
        "s.c. & & x_1 & &  &  \\leq & 8 \\\\\n",
        "& & x_1 &  +  & 2x_2 & \\leq & 15 \\\\\n",
        "& & 2x_1&  + & x_2 & \\leq & 18 \\\\\n",
        "& & \\rlap{x_j \\geq 0 \\quad j= 1,2}\n",
        "\\end{array}\\right.\n",
        "$$\n",
        "\n",
        "**Exercice :** Mettre le problème sous forme standard (contraintes d'égalité)."
      ]
    },
    {
      "cell_type": "markdown",
      "metadata": {
        "id": "J1cZkLh9-Ngy",
        "colab_type": "text"
      },
      "source": [
        "$$\n",
        "\\mathcal{P}=\\left(\\begin{array}{rrrlrlrl}\n",
        "\\max & z = & 4 x_1 & + & 3x_2 & +&0x_3&+&0x_4&+&0x_5\\\\\n",
        "s.c. & & x_1 & + &  & +&x_3 && &&&= & 8 \\\\\n",
        " & & x_1 & + & 2x_2 &  &&+& x_4&&&= & 15 \\\\\n",
        " & & 2x_1 & + & x_2 &  && &&+&x_5&= & 18 \\\\\n",
        "& & \\rlap{x_j \\geq 0 \\quad j= 1,2,3,4,5}\n",
        "\\end{array}\\right.\n",
        "$$"
      ]
    },
    {
      "cell_type": "markdown",
      "metadata": {
        "id": "xq6dtzUq-Ng0",
        "colab_type": "text"
      },
      "source": [
        "**Exercice :** Donner une base évidente pour le problème ci-dessus.\n"
      ]
    },
    {
      "cell_type": "markdown",
      "metadata": {
        "id": "FmH1MCmf-Ng1",
        "colab_type": "text"
      },
      "source": [
        "**<font color=\"red\">Réponse étudiant(e)s:</font>**\n",
        "\n",
        "(0,0,8,15,18)"
      ]
    },
    {
      "cell_type": "markdown",
      "metadata": {
        "id": "k03k0oZK-Ng3",
        "colab_type": "text"
      },
      "source": [
        "**Exercice :** Écrire le dictionnaire correspondant à la base de la question précédente."
      ]
    },
    {
      "cell_type": "markdown",
      "metadata": {
        "id": "I0kky4vb-Ng5",
        "colab_type": "text"
      },
      "source": [
        "**<font color=\"red\">Réponse étudiant(e)s:</font>**\n",
        "\n",
        "$$\n",
        "\\begin{array}{r||r|r|r|r|}\n",
        " & b & x_1 & x_2 \\\\\\hline\n",
        " x_3 & 8 & -1 & 0\\\\\n",
        " x_4 & 15 & -1 & -2\\\\\n",
        " x_5 & 18 & -2 & -1 \\\\\\hline\\hline\n",
        " z & 0 & 4 & 3\\\\\\hline\n",
        "\\end{array}\n",
        "$$\n"
      ]
    },
    {
      "cell_type": "markdown",
      "metadata": {
        "id": "F5c4hqMa-Ng6",
        "colab_type": "text"
      },
      "source": [
        "## 1.2 &mdash; Implémentation des dictionnaires en python\n",
        "\n",
        "### 1.2.1. La structure python `simplex_dictionary`\n",
        "\n",
        "Nous allons utilisés la structure `simplex_dictionary` afin de représenter un dictionnaire du simplex en python en python.\n",
        "Cette structure est fournie par le package `simplex` qui peut être installé en exécutant la cellule ci-dessous.\n",
        "\n",
        "<div class=\"alert alert-block alert-info\">\n",
        "    \n",
        "Il est indispensable de vérifier que le package `simplex` a été installé correctement et que la classe `simplex_dictionary`\n",
        "est disponible avant de passer à la suite.\n",
        "Si la cellule s'exécute sans erreurs, c'est que la classe a été importée correctement.\n",
        "</div>\n",
        "\n",
        "<div class=\"alert alert-block alert-warning\">\n",
        "    <b>Attention !</b> Il existe une structure <code>dict</code> très courante en python appelée « dictionary », qui est\n",
        "    utilisée dans la classe <code>simplex_dictionary</code> pour stocker certaines valeurs. À ne pas confondre avec\n",
        "    notre classe <code>simplex_dictionary</code>.\n",
        "</div>"
      ]
    },
    {
      "cell_type": "code",
      "metadata": {
        "scrolled": true,
        "id": "F7FtYs5C-Ng8",
        "colab_type": "code",
        "outputId": "fbed136d-d035-4ac4-fe67-3c2bba3a6765",
        "colab": {
          "base_uri": "https://localhost:8080/",
          "height": 181
        }
      },
      "source": [
        "# Install the small simplex package:\n",
        "!pip install --user git+https://gitea.typename.fr/mikael.capelle/simplex.git\n",
        "    \n",
        "# Import the simplex_dictionary class:\n",
        "from simplex import simplex_dictionary"
      ],
      "execution_count": 7,
      "outputs": [
        {
          "output_type": "stream",
          "text": [
            "Collecting git+https://gitea.typename.fr/mikael.capelle/simplex.git\n",
            "  Cloning https://gitea.typename.fr/mikael.capelle/simplex.git to /tmp/pip-req-build-l4w8f93c\n",
            "  Running command git clone -q https://gitea.typename.fr/mikael.capelle/simplex.git /tmp/pip-req-build-l4w8f93c\n",
            "Requirement already satisfied (use --upgrade to upgrade): simplex==0.0.1 from git+https://gitea.typename.fr/mikael.capelle/simplex.git in /root/.local/lib/python3.6/site-packages\n",
            "Building wheels for collected packages: simplex\n",
            "  Building wheel for simplex (setup.py) ... \u001b[?25l\u001b[?25hdone\n",
            "  Created wheel for simplex: filename=simplex-0.0.1-cp36-none-any.whl size=7077 sha256=af9f814e38cda2bd76856f96799b537f6efeef4ef8ced987bbc95fa30c5a7797\n",
            "  Stored in directory: /tmp/pip-ephem-wheel-cache-d2unvsio/wheels/60/1c/89/223b1fa2de37798acbffd20dbb3c9bb846ff1f7a54b42cc05c\n",
            "Successfully built simplex\n"
          ],
          "name": "stdout"
        }
      ]
    },
    {
      "cell_type": "markdown",
      "metadata": {
        "id": "30nkmad9-NhG",
        "colab_type": "text"
      },
      "source": [
        "### 1.2.2. Création d'un dictionnaire en python\n",
        "\n",
        "Soit le programme linéaire suivant sous forme normale:\n",
        "\n",
        "$$\n",
        "\\begin{array}{rrrlrlrlrlrlrl}\n",
        "\\max & z = & 3 x_1 & + & 2 x_2 &   &     &   &    \\\\\n",
        "s.c.     & & 2 x_1 & + &   x_2 & + & x_3 & = & 18  \\\\\n",
        "         & & 2 x_1 & + & 3 x_2 & + & x_4 & = & 42 \\\\\n",
        "         & & 3 x_1 & + &   x_2 & + & x_5 & = & 24 \\\\\n",
        "& & \\rlap{x_j \\geq 0 \\quad j= 1, 2, 3, 4, 5}\n",
        "\\end{array}\n",
        "$$\n",
        "\n",
        "Ce programme possède une base évidente $\\mathcal{B}_0$ composée des variables d'écarts $\\mathcal{B}_0 = (x_4, x_5, x_6)$. On peut donc écrire le dictionaire suivant:\n",
        "\n",
        "$$\n",
        "\\begin{array}{lrlrlrlrlrlr}\n",
        " z  & = &  0 & + & 3x_1 & + & 2x_2 \\\\\n",
        "x_3 & = & 18 & - & 2x_1 & - &  x_2 \\\\\n",
        "x_4 & = & 42 & - & 2x_1 & - & 3x_2 \\\\\n",
        "x_5 & = & 24 & - & 3x_1 & - &  x_2\n",
        "\\end{array}\n",
        "$$\n",
        "\n",
        "Ou sous forme de tableau:\n",
        "\n",
        "$$\n",
        "\\begin{array}{r||r|r|r|r|}\n",
        " & b & x_1 & x_2 \\\\\\hline\n",
        " x_3 & 18 & -2 & -1\\\\\n",
        " x_4 & 42 & -2 & -3\\\\\n",
        " x_5 & 24 & -3 & -1 \\\\\\hline\\hline\n",
        " z & 0 & 3 & 2\\\\\\hline\n",
        "\\end{array}\n",
        "$$\n",
        "\n",
        "Le code python ci-dessous permet de créer un dictionnaire python (`simplex_dictionary`) représentant le dictionnaire ci-dessus.\n",
        "\n",
        "<div class=\"alert alert-block alert-info\">\n",
        "    \n",
        "Il est possible d'afficher un object `simplex_dictionary` sous forme mathématique via la méthode\n",
        "`.display()`. \n",
        "Pour obtenir un affiche cohérent, il est recommandé de nommer les variables utilisées de la forme\n",
        "`a_n` où `a` est une lettre et `n` un nombre, par exemple `x_1` ou `y_3`.\n",
        "    \n",
        "</div>"
      ]
    },
    {
      "cell_type": "code",
      "metadata": {
        "scrolled": true,
        "id": "VPVTPAnk-NhH",
        "colab_type": "code",
        "outputId": "71dc56a5-8056-45c3-8222-50fba9e3a3cf",
        "colab": {
          "base_uri": "https://localhost:8080/",
          "height": 198
        }
      },
      "source": [
        "# The list of variables:\n",
        "x1, x2, x3, x4, x5 = ('x_{}'.format(i + 1) for i in range(5))\n",
        "variables = [x1, x2, x3, x4, x5]\n",
        "print('Variables:', variables)\n",
        "\n",
        "# The simplex dictionary with B = (x3, x4, x5):\n",
        "sdict = simplex_dictionary(B=[x3, x4, x5], N=[x1, x2])\n",
        "\n",
        "# Set the values of the basic variables:\n",
        "sdict.b = {x3: 18, x4: 42, x5: 24}\n",
        "\n",
        "# Coefficients of the non-basic variables in the dictionary (we represent\n",
        "# the positive coefficients):\n",
        "sdict.a = {\n",
        "    x3: {x1: 2, x2: 1},\n",
        "    x4: {x1: 2, x2: 3},\n",
        "    x5: {x1: 3, x2: 1}\n",
        "}\n",
        "\n",
        "# Current value of the objective:\n",
        "sdict.z = 0\n",
        "\n",
        "# Coefficients of the non-basic variables in the objective function:\n",
        "sdict.c[x1] = 3\n",
        "sdict.c[x2] = 2\n",
        "\n",
        "# Display the dictionary:\n",
        "typeset()\n",
        "sdict.display(name='S_0')"
      ],
      "execution_count": 8,
      "outputs": [
        {
          "output_type": "stream",
          "text": [
            "Variables: ['x_1', 'x_2', 'x_3', 'x_4', 'x_5']\n"
          ],
          "name": "stdout"
        },
        {
          "output_type": "display_data",
          "data": {
            "text/html": [
              "\n",
              "      <script src=\"https://www.gstatic.com/external_hosted/mathjax/latest/MathJax.js?config=TeX-AMS_HTML-full,Safe&delayStartupUntil=configured\"></script>\n",
              "      <script>\n",
              "        (() => {\n",
              "          const mathjax = window.MathJax;\n",
              "          mathjax.Hub.Config({\n",
              "          'tex2jax': {\n",
              "            'inlineMath': [['$', '$'], ['\\(', '\\)']],\n",
              "            'displayMath': [['$$', '$$'], ['\\[', '\\]']],\n",
              "            'processEscapes': true,\n",
              "            'processEnvironments': true,\n",
              "            'skipTags': ['script', 'noscript', 'style', 'textarea', 'code'],\n",
              "            'displayAlign': 'center',\n",
              "          },\n",
              "          'HTML-CSS': {\n",
              "            'styles': {'.MathJax_Display': {'margin': 0}},\n",
              "            'linebreaks': {'automatic': true},\n",
              "            // Disable to prevent OTF font loading, which aren't part of our\n",
              "            // distribution.\n",
              "            'imageFont': null,\n",
              "          },\n",
              "          'messageStyle': 'none'\n",
              "        });\n",
              "        mathjax.Hub.Configured();\n",
              "      })();\n",
              "      </script>\n",
              "      "
            ],
            "text/plain": [
              "<IPython.core.display.HTML object>"
            ]
          },
          "metadata": {
            "tags": []
          }
        },
        {
          "output_type": "display_data",
          "data": {
            "text/latex": "$$S_0 = \\left.\\begin{array}{r||r|r|r|r|} & b & x_{1} & x_{2}\\\\\\hline x_{3} & 18 &-2 & -1\\\\x_{4} & 42 &-2 & -3\\\\x_{5} & 24 &-3 & -1\\\\\\hline\\hline z&0&3&2\\\\\\hline\\end{array}\\right.$$",
            "text/plain": [
              "<IPython.core.display.Math object>"
            ]
          },
          "metadata": {
            "tags": []
          }
        }
      ]
    },
    {
      "cell_type": "markdown",
      "metadata": {
        "id": "RBgtyQJm-NhK",
        "colab_type": "text"
      },
      "source": [
        "## 2. Implémentation de l'algorithme du simplexe en python\n",
        "\n",
        "### 2.1. Pré-calcul\n",
        "\n",
        "On considère maintenant le dictionnaire de l'exemple précédent :\n",
        "\n",
        "$$\n",
        "\\begin{array}{r||r|r|r|r|}\n",
        " & b & x_1 & x_2 \\\\\\hline\n",
        " x_3 & 18 & -2 & -1\\\\\n",
        " x_4 & 42 & -2 & -3\\\\\n",
        " x_5 & 24 & -3 & -1 \\\\\\hline\\hline\n",
        " z & 0 & 3 & 2\\\\\\hline\n",
        "\\end{array}\n",
        "$$\n",
        "\n",
        "**Exercice :** Trouver la variable entrante $x_k$ et sortante $x_s$, et effectuer une étape de l'algorithme\n",
        "du simplexe sur le dictionnaire ci-dessus."
      ]
    },
    {
      "cell_type": "markdown",
      "metadata": {
        "id": "EzhxgPWu-NhM",
        "colab_type": "text"
      },
      "source": [
        "$x_1$ rentre en base et $x_5$ sort de base"
      ]
    },
    {
      "cell_type": "markdown",
      "metadata": {
        "id": "FNXfnv32-NhN",
        "colab_type": "text"
      },
      "source": [
        "**Exercice :** Construire le nouveau dictionnaire, `ndict`, obtenu après l'étape de pivotage.\n",
        "\n",
        "<div class=\"alert alert-block alert-info\">\n",
        "\n",
        "Afin d'éviter les erreurs d'arrondi inhérentes aux calculs en nombres flottants, il est impossible d'utiliser \n",
        "la classe `simplex_dictionary` avec des valeurs flottantes (par exemple `0.33`).\n",
        "Pour représenter de manière exacte des nombres rationnels en python, tel que $\\frac{1}{3}$, vous pouvez\n",
        "utiliser la class `Fraction` (du package `fractions`). Par exemple:\n",
        "\n",
        "```python\n",
        "from fractions import Fraction\n",
        "Fraction(1, 3)\n",
        "```\n",
        "\n",
        "</div>"
      ]
    },
    {
      "cell_type": "code",
      "metadata": {
        "id": "iVqQSfRP-NhN",
        "colab_type": "code",
        "outputId": "2cf7f9be-38a7-4140-916b-9e5a21346a13",
        "colab": {
          "base_uri": "https://localhost:8080/",
          "height": 157
        }
      },
      "source": [
        "from fractions import Fraction\n",
        "\n",
        "# On construit un dictionnaire avec la nouvelle base:\n",
        "ndict = simplex_dictionary(B=[x3, x4, x1], N=[x2,x5])\n",
        "\n",
        "# On définit les valeurs des variables b_i et des coefficients a_ij:\n",
        "ndict.b = {x3: 2, x4: 26, x1: 8}\n",
        "ndict.a = {\n",
        "    x3: {x2: Fraction(1,3), x5: Fraction(-2,3)},\n",
        "    x4: {x2: Fraction(7,3), x5: Fraction(-2,3)},\n",
        "    x1: {x2: Fraction(1,3), x5: Fraction(1,3)}\n",
        "}\n",
        "\n",
        "# On définit le nouvel objectif et les nouveaux coefficients:\n",
        "ndict.z = 24\n",
        "ndict.c = {\n",
        "    x2:1,\n",
        "    x5:-1\n",
        "}\n",
        "\n",
        "# On affiche le dictionnaire:\n",
        "typeset()\n",
        "ndict.display()\n",
        "n2dict = ndict"
      ],
      "execution_count": 9,
      "outputs": [
        {
          "output_type": "display_data",
          "data": {
            "text/html": [
              "\n",
              "      <script src=\"https://www.gstatic.com/external_hosted/mathjax/latest/MathJax.js?config=TeX-AMS_HTML-full,Safe&delayStartupUntil=configured\"></script>\n",
              "      <script>\n",
              "        (() => {\n",
              "          const mathjax = window.MathJax;\n",
              "          mathjax.Hub.Config({\n",
              "          'tex2jax': {\n",
              "            'inlineMath': [['$', '$'], ['\\(', '\\)']],\n",
              "            'displayMath': [['$$', '$$'], ['\\[', '\\]']],\n",
              "            'processEscapes': true,\n",
              "            'processEnvironments': true,\n",
              "            'skipTags': ['script', 'noscript', 'style', 'textarea', 'code'],\n",
              "            'displayAlign': 'center',\n",
              "          },\n",
              "          'HTML-CSS': {\n",
              "            'styles': {'.MathJax_Display': {'margin': 0}},\n",
              "            'linebreaks': {'automatic': true},\n",
              "            // Disable to prevent OTF font loading, which aren't part of our\n",
              "            // distribution.\n",
              "            'imageFont': null,\n",
              "          },\n",
              "          'messageStyle': 'none'\n",
              "        });\n",
              "        mathjax.Hub.Configured();\n",
              "      })();\n",
              "      </script>\n",
              "      "
            ],
            "text/plain": [
              "<IPython.core.display.HTML object>"
            ]
          },
          "metadata": {
            "tags": []
          }
        },
        {
          "output_type": "display_data",
          "data": {
            "text/latex": "$$\\begin{array}{r||r|r|r|r|} & b & x_{2} & x_{5}\\\\\\hline x_{3} & 2 &-\\frac{1}{3} & \\frac{2}{3}\\\\x_{4} & 26 &-\\frac{7}{3} & \\frac{2}{3}\\\\x_{1} & 8 &-\\frac{1}{3} & -\\frac{1}{3}\\\\\\hline\\hline z&24&1&-1\\\\\\hline\\end{array}$$",
            "text/plain": [
              "<IPython.core.display.Math object>"
            ]
          },
          "metadata": {
            "tags": []
          }
        }
      ]
    },
    {
      "cell_type": "markdown",
      "metadata": {
        "id": "J6JAI9kY-NhR",
        "colab_type": "text"
      },
      "source": [
        "### 2.2. Recherche des variables entrantes et sortantes en python\n",
        "\n",
        "Nous allons maintenant implémenter les fonctions python suivantes:\n",
        "\n",
        "- `find_entering_variable` &mdash; Permet de trouver la variable entrante pour un dictionnaire donné.\n",
        "- `find_leaving_variable` &mdash; Permet de trouver la variable sortante pour un dictionnaire et une variable\n",
        "    entrante donnés.\n",
        "    \n",
        "Dans les deux cas, nous utiliserons la [règle de Bland](https://en.wikipedia.org/wiki/Bland%27s_rule) en \n",
        "cas de choix (règle du plus petit indice).\n",
        "\n",
        "Les fonctions retourneront la valeur python `None` si aucune variable n'est possible, par exemple, si\n",
        "tous les coefficients sont négatifs dans l'expression de l'objectif."
      ]
    },
    {
      "cell_type": "markdown",
      "metadata": {
        "id": "9HrCrAWq-NhS",
        "colab_type": "text"
      },
      "source": [
        "**Exercice :** Écrire la fonction `find_entering_variable` ci-dessous et vérifier qu'elle retourne $x_k$ sur le dictionnaire initial `sdict`.\n",
        "\n",
        "<div class=\"alert alert-block alert-info\">\n",
        "\n",
        "Il existe une fonction `min` en python qui fonctionne sur tous les types, et en particulier sur les \n",
        "chaînes de caractères.\n",
        "\n",
        "</div>"
      ]
    },
    {
      "cell_type": "code",
      "metadata": {
        "id": "k53ldtT0-NhU",
        "colab_type": "code",
        "outputId": "0e23f5ca-7237-434e-b0e5-4bf14afb2033",
        "colab": {
          "base_uri": "https://localhost:8080/",
          "height": 160
        }
      },
      "source": [
        "def find_entering_variable(sdict):\n",
        "    \"\"\" Retrieve the index of the next entering variable from the given\n",
        "    simplex dictionary using Bland's rule.\n",
        "    \n",
        "    Parameters:\n",
        "      - sdict The simplex dictionary to use.\n",
        "      \n",
        "    Returns: The next entering variable, or None if there\n",
        "    is none.\n",
        "    \"\"\"    \n",
        "    x = min(sdict.c)\n",
        "    for x in sdict.c:\n",
        "        if sdict.c[x] >= 0:\n",
        "            return x\n",
        "    if sdict.c[x] <= 0:\n",
        "        return None\n",
        "    return x\n",
        "xk = find_entering_variable(sdict)\n",
        "print('Entering variable:', xk)\n",
        "typeset()\n",
        "sdict.display()\n",
        "# def find_entering_variable(sdict):\n",
        "#     \"\"\" Retrieve the index of the next entering variable from the given\n",
        "#     simplex dictionary using Bland's rule.\n",
        "    \n",
        "#     Parameters:\n",
        "#       - sdict The simplex dictionary to use.\n",
        "      \n",
        "#     Returns: The next entering variable, or None if there\n",
        "#     is none.\n",
        "#     \"\"\"    \n",
        "#     xmin = max(sdict.c)\n",
        "#     for x in sdict.c:\n",
        "#         if sdict.c[x] < sdict.c[xmin] and sdict.c[x] >=0:\n",
        "#             xmin = x\n",
        "#     if sdict.c[xmin] <= 0:\n",
        "#         print(\"No entering variable\")\n",
        "#         return None\n",
        "#     return x\n",
        "# xk = find_entering_variable(sdict)\n",
        "# print('Entering variable:', xk)"
      ],
      "execution_count": 10,
      "outputs": [
        {
          "output_type": "stream",
          "text": [
            "Entering variable: x_1\n"
          ],
          "name": "stdout"
        },
        {
          "output_type": "display_data",
          "data": {
            "text/html": [
              "\n",
              "      <script src=\"https://www.gstatic.com/external_hosted/mathjax/latest/MathJax.js?config=TeX-AMS_HTML-full,Safe&delayStartupUntil=configured\"></script>\n",
              "      <script>\n",
              "        (() => {\n",
              "          const mathjax = window.MathJax;\n",
              "          mathjax.Hub.Config({\n",
              "          'tex2jax': {\n",
              "            'inlineMath': [['$', '$'], ['\\(', '\\)']],\n",
              "            'displayMath': [['$$', '$$'], ['\\[', '\\]']],\n",
              "            'processEscapes': true,\n",
              "            'processEnvironments': true,\n",
              "            'skipTags': ['script', 'noscript', 'style', 'textarea', 'code'],\n",
              "            'displayAlign': 'center',\n",
              "          },\n",
              "          'HTML-CSS': {\n",
              "            'styles': {'.MathJax_Display': {'margin': 0}},\n",
              "            'linebreaks': {'automatic': true},\n",
              "            // Disable to prevent OTF font loading, which aren't part of our\n",
              "            // distribution.\n",
              "            'imageFont': null,\n",
              "          },\n",
              "          'messageStyle': 'none'\n",
              "        });\n",
              "        mathjax.Hub.Configured();\n",
              "      })();\n",
              "      </script>\n",
              "      "
            ],
            "text/plain": [
              "<IPython.core.display.HTML object>"
            ]
          },
          "metadata": {
            "tags": []
          }
        },
        {
          "output_type": "display_data",
          "data": {
            "text/latex": "$$\\begin{array}{r||r|r|r|r|} & b & x_{1} & x_{2}\\\\\\hline x_{3} & 18 &-2 & -1\\\\x_{4} & 42 &-2 & -3\\\\x_{5} & 24 &-3 & -1\\\\\\hline\\hline z&0&3&2\\\\\\hline\\end{array}$$",
            "text/plain": [
              "<IPython.core.display.Math object>"
            ]
          },
          "metadata": {
            "tags": []
          }
        }
      ]
    },
    {
      "cell_type": "markdown",
      "metadata": {
        "id": "OJ8TRzO0-Nha",
        "colab_type": "text"
      },
      "source": [
        "**Exercice :** Écrire la fonction `find_leaving_variable` ci-dessous et vérifier qu'elle retourne $x_s$ sur le dictionnaire initial `sdict` et $x_k$.\n",
        "\n",
        "<div class=\"alert alert-block alert-info\">\n",
        "\n",
        "Les valeurs des variables dans `b` et des coefficients dans `a` sont stockées sous forme\n",
        "d'object `fractions.Fraction` dans un `simplex_dictionary`, ce qui permet de ne pas perdre en\n",
        "précision.\n",
        "En particulier, diviser une valeur par une autre produit un autre object `fractions.Fraction`, et\n",
        "il est donc possible de comparer de manière exacte (`==`) deux nombre rationnel:\n",
        "\n",
        "```python\n",
        "a = Fraction(3, 8)\n",
        "b = Fraction(6, 14)\n",
        "\n",
        "assert a / b == Fraction(7, 8)\n",
        "```\n",
        "\n",
        "</div>"
      ]
    },
    {
      "cell_type": "code",
      "metadata": {
        "id": "CuvVxu4S-Nhb",
        "colab_type": "code",
        "outputId": "7b8260ba-1799-464c-89ec-03151ec0c872",
        "colab": {
          "base_uri": "https://localhost:8080/",
          "height": 72
        }
      },
      "source": [
        "sdict.a"
      ],
      "execution_count": 11,
      "outputs": [
        {
          "output_type": "execute_result",
          "data": {
            "text/plain": [
              "{'x_3': {'x_1': Fraction(2, 1), 'x_2': Fraction(1, 1)},\n",
              " 'x_4': {'x_1': Fraction(2, 1), 'x_2': Fraction(3, 1)},\n",
              " 'x_5': {'x_1': Fraction(3, 1), 'x_2': Fraction(1, 1)}}"
            ]
          },
          "metadata": {
            "tags": []
          },
          "execution_count": 11
        }
      ]
    },
    {
      "cell_type": "code",
      "metadata": {
        "id": "E0cdh196-Nhh",
        "colab_type": "code",
        "outputId": "81f90204-c731-49db-95c1-cff3d5b0be37",
        "colab": {
          "base_uri": "https://localhost:8080/",
          "height": 35
        }
      },
      "source": [
        "def find_leaving_variable(sdict, xk):\n",
        "    \"\"\" Retrieve the index of the next leaving variable from the given\n",
        "    simplex dictionary and entering variable using Bland's rule.\n",
        "    \n",
        "    Parameters:\n",
        "      - sdict  The simplex dictionary to use.\n",
        "      - xk     The next entering variable.\n",
        "      \n",
        "    Returns: The next leaving variable, or None if there is none (i.e., \n",
        "    the problem is unbounded).\n",
        "    \"\"\"\n",
        "    x_sortant = None\n",
        "    valmin = 10**7\n",
        "    for ligne_x in sdict.b:\n",
        "        b = sdict.b[ligne_x]\n",
        "        dicta = sdict.a[ligne_x]\n",
        "        if b/dicta[xk] < valmin and b/dicta[xk] >= 0:\n",
        "            x_sortant = ligne_x\n",
        "            valmin = b/dicta[xk]\n",
        "    return x_sortant\n",
        "\n",
        "xs = find_leaving_variable(sdict, xk)\n",
        "print('Leaving variable:', xs)"
      ],
      "execution_count": 12,
      "outputs": [
        {
          "output_type": "stream",
          "text": [
            "Leaving variable: x_5\n"
          ],
          "name": "stdout"
        }
      ]
    },
    {
      "cell_type": "markdown",
      "metadata": {
        "id": "BFeitCUX-Nho",
        "colab_type": "text"
      },
      "source": [
        "### 2.3. Pivot du dictionnaire à partir des variables entrantes et sortantes en python\n",
        "\n",
        "**Exercice :** Écrire la fonction `pivot_dictionary` ci-dessous."
      ]
    },
    {
      "cell_type": "code",
      "metadata": {
        "id": "nkhipxGBAZyB",
        "colab_type": "code",
        "outputId": "8f775037-ed6a-42fc-b724-a0500692b4e4",
        "colab": {
          "base_uri": "https://localhost:8080/",
          "height": 35
        }
      },
      "source": [
        "sdict.B"
      ],
      "execution_count": 13,
      "outputs": [
        {
          "output_type": "execute_result",
          "data": {
            "text/plain": [
              "['x_3', 'x_4', 'x_5']"
            ]
          },
          "metadata": {
            "tags": []
          },
          "execution_count": 13
        }
      ]
    },
    {
      "cell_type": "code",
      "metadata": {
        "id": "HD7AD__8-Nhp",
        "colab_type": "code",
        "colab": {}
      },
      "source": [
        "def pivot_dictionary(sdict, xk, xs):\n",
        "    \"\"\" Pivot the given dictionary on the given row / column and creates a new one. \n",
        "    \n",
        "    Parameters:\n",
        "      - sdict  The simplex dictionary to use.\n",
        "      - xk     The entering variable.\n",
        "      - xs     The leaving variable.\n",
        "      \n",
        "    Returns: A new simplex dictionary after the pivot operation. \n",
        "    \"\"\"\n",
        "    # On construit un dictionnaire avec la nouvelle base:\n",
        "    B = []\n",
        "    print(\"Sort de base \",xs)\n",
        "    print(\"Rentre en base \",xk)\n",
        "    for x in sdict.b:\n",
        "        if x != xs:\n",
        "            B.append(x)\n",
        "    B.append(xk)\n",
        "    N = []\n",
        "    for x in sdict.a[xs]:\n",
        "        if x != xk:\n",
        "            N.append(x)\n",
        "    N.append(xs)\n",
        "    print(\"Variables en bases : \",','.join(B),\" et hors base : \",','.join(N))\n",
        "    ndict = simplex_dictionary(B=B, N=N)\n",
        "    #On calcul la valeur de la variable entrante xk = ....\n",
        "    dictxk =  {k: v/sdict.a[xs][xk] for k, v in sdict.a[xs].items()}#Copie du dictionnaire de la variable sortante et ....\n",
        "    del dictxk[xk]#Suppression du coefficient de la variable entrant en base\n",
        "    dictxk[xs] = 1/sdict.a[xs][xk]\n",
        "    ndict.a[xk] = dictxk\n",
        "    #On ajoute le coefficient de xk\n",
        "    dicob = {}\n",
        "    dicob[xk] = sdict.b[xs]/sdict.a[xs][xk]\n",
        "    #Avec cela on écrit la valeur de xk dans les autres lignes\n",
        "    for ligne_x in sdict.a:\n",
        "        if ligne_x != xs:#Si on a une ligne différente de celle de la variable entrante\n",
        "            #On remplace la valeur de la variable sortante par son expresion trouvée ci_dessus\n",
        "            #Ce qui peut changer les coefficients des autres variables\n",
        "            for col_x in sdict.a[ligne_x]:\n",
        "                dic = {}\n",
        "                if col_x != xk:#On passe l'index de la variable entrante qui ne sera plus dans ndict.a\n",
        "                    dic[col_x] = sdict.a[ligne_x][col_x] - dictxk[col_x]*sdict.a[ligne_x][xk]\n",
        "            dic[xs] = -dictxk[xs]*sdict.a[ligne_x][xk]#On ajoute le coefficient de la variable sortante\n",
        "            ndict.a[ligne_x] = dic\n",
        "            #Et la valeur de la constante\n",
        "            dicob[ligne_x] = sdict.b[ligne_x] - dicob[xk]*sdict.a[ligne_x][xk]\n",
        "    ndict.b = dicob\n",
        "    # On change également l'objectif          \n",
        "    dictc = {}\n",
        "    for x in sdict.c:\n",
        "        if x in ndict.a[xk]:\n",
        "            dictc[x] = sdict.c[x]-ndict.a[xk][x]*sdict.c[xk]\n",
        "\n",
        "            \n",
        "    dictc[xs] = -ndict.a[xk][xs]*sdict.c[xk]\n",
        "    ndict.c = dictc\n",
        "    ndict.z = sdict.z + ndict.b[xk]*sdict.c[xk]\n",
        "    return ndict"
      ],
      "execution_count": 0,
      "outputs": []
    },
    {
      "cell_type": "markdown",
      "metadata": {
        "id": "Uqpdc5hp-Nht",
        "colab_type": "text"
      },
      "source": [
        " **Exercie:** Vérifier que l'appel `pivot_dictionary(sdict, xk, xs)` retourne bien le dictionnaire trouver à la section **2.1**.\n",
        " NB : on prend alors la même règle de choix de variable entrante"
      ]
    },
    {
      "cell_type": "code",
      "metadata": {
        "id": "EeEkqsiV-Nhu",
        "colab_type": "code",
        "outputId": "2beadce3-98c8-4e40-a6bf-eec3a3666516",
        "colab": {
          "base_uri": "https://localhost:8080/",
          "height": 531
        }
      },
      "source": [
        "xk = find_entering_variable(sdict)\n",
        "xs = find_leaving_variable(sdict, xk)\n",
        "ndict = pivot_dictionary(sdict, xk, xs)\n",
        "typeset()\n",
        "\n",
        "print(\"Avant\")\n",
        "sdict.display()\n",
        "print(\"Resultat\")\n",
        "ndict.display()\n",
        "print(\"Contre normalement\")\n",
        "n2dict.display()"
      ],
      "execution_count": 15,
      "outputs": [
        {
          "output_type": "stream",
          "text": [
            "Sort de base  x_5\n",
            "Rentre en base  x_1\n",
            "Variables en bases :  x_3,x_4,x_1  et hors base :  x_2,x_5\n"
          ],
          "name": "stdout"
        },
        {
          "output_type": "display_data",
          "data": {
            "text/html": [
              "\n",
              "      <script src=\"https://www.gstatic.com/external_hosted/mathjax/latest/MathJax.js?config=TeX-AMS_HTML-full,Safe&delayStartupUntil=configured\"></script>\n",
              "      <script>\n",
              "        (() => {\n",
              "          const mathjax = window.MathJax;\n",
              "          mathjax.Hub.Config({\n",
              "          'tex2jax': {\n",
              "            'inlineMath': [['$', '$'], ['\\(', '\\)']],\n",
              "            'displayMath': [['$$', '$$'], ['\\[', '\\]']],\n",
              "            'processEscapes': true,\n",
              "            'processEnvironments': true,\n",
              "            'skipTags': ['script', 'noscript', 'style', 'textarea', 'code'],\n",
              "            'displayAlign': 'center',\n",
              "          },\n",
              "          'HTML-CSS': {\n",
              "            'styles': {'.MathJax_Display': {'margin': 0}},\n",
              "            'linebreaks': {'automatic': true},\n",
              "            // Disable to prevent OTF font loading, which aren't part of our\n",
              "            // distribution.\n",
              "            'imageFont': null,\n",
              "          },\n",
              "          'messageStyle': 'none'\n",
              "        });\n",
              "        mathjax.Hub.Configured();\n",
              "      })();\n",
              "      </script>\n",
              "      "
            ],
            "text/plain": [
              "<IPython.core.display.HTML object>"
            ]
          },
          "metadata": {
            "tags": []
          }
        },
        {
          "output_type": "stream",
          "text": [
            "Avant\n"
          ],
          "name": "stdout"
        },
        {
          "output_type": "display_data",
          "data": {
            "text/latex": "$$\\begin{array}{r||r|r|r|r|} & b & x_{1} & x_{2}\\\\\\hline x_{3} & 18 &-2 & -1\\\\x_{4} & 42 &-2 & -3\\\\x_{5} & 24 &-3 & -1\\\\\\hline\\hline z&0&3&2\\\\\\hline\\end{array}$$",
            "text/plain": [
              "<IPython.core.display.Math object>"
            ]
          },
          "metadata": {
            "tags": []
          }
        },
        {
          "output_type": "stream",
          "text": [
            "Resultat\n"
          ],
          "name": "stdout"
        },
        {
          "output_type": "display_data",
          "data": {
            "text/latex": "$$\\begin{array}{r||r|r|r|r|} & b & x_{2} & x_{5}\\\\\\hline x_{3} & 2 &-\\frac{1}{3} & \\frac{2}{3}\\\\x_{4} & 26 &-\\frac{7}{3} & \\frac{2}{3}\\\\x_{1} & 8 &-\\frac{1}{3} & -\\frac{1}{3}\\\\\\hline\\hline z&24&1&-1\\\\\\hline\\end{array}$$",
            "text/plain": [
              "<IPython.core.display.Math object>"
            ]
          },
          "metadata": {
            "tags": []
          }
        },
        {
          "output_type": "stream",
          "text": [
            "Contre normalement\n"
          ],
          "name": "stdout"
        },
        {
          "output_type": "display_data",
          "data": {
            "text/latex": "$$\\begin{array}{r||r|r|r|r|} & b & x_{2} & x_{5}\\\\\\hline x_{3} & 2 &-\\frac{1}{3} & \\frac{2}{3}\\\\x_{4} & 26 &-\\frac{7}{3} & \\frac{2}{3}\\\\x_{1} & 8 &-\\frac{1}{3} & -\\frac{1}{3}\\\\\\hline\\hline z&24&1&-1\\\\\\hline\\end{array}$$",
            "text/plain": [
              "<IPython.core.display.Math object>"
            ]
          },
          "metadata": {
            "tags": []
          }
        }
      ]
    },
    {
      "cell_type": "markdown",
      "metadata": {
        "id": "J1mAEBjF-Nh6",
        "colab_type": "text"
      },
      "source": [
        "### 2.4. Algorithme du simplex (une phase) en python\n",
        "\n",
        "**Exercice :** Écrire la méthode `simplex_single_phase` ci-dessous qui, à partir d'un dictionnaire `sdict` (que l'on considéra valide, i.e., $b_i \\geq 0, \\forall i\\in\\mathcal{B}$), retourne le dictionnaire final de l'algorithme.\n",
        "\n",
        "<div class=\"alert alert-block alert-info\">\n",
        "\n",
        "N'hésitez pas à afficher les dictionnaires intermédaires via la\n",
        "méthode `.display()` pour visualiser l'évolution de l'algorithme.\n",
        "\n",
        "</div>"
      ]
    },
    {
      "cell_type": "code",
      "metadata": {
        "id": "z3www_p8-Nh7",
        "colab_type": "code",
        "colab": {}
      },
      "source": [
        "def simplex_single_phase(sdict, log=True):\n",
        "    \"\"\" Apply the simplex algorithm on the given dictionary.\n",
        "    \n",
        "    Parameters:\n",
        "      - sdict  The initial dictionary to start the algorithm. Must be valid.\n",
        "      \n",
        "    Return: A tuple (z, dict) containing the value of the objective (or None is the problem\n",
        "    is not bounded), and the final dictionary (or any dictionary if the problem is unbounded).\n",
        "    \"\"\"\n",
        "    xk = find_entering_variable(sdict)\n",
        "    while xk != None:\n",
        "        xs = find_leaving_variable(sdict, xk)\n",
        "        if xs == None:\n",
        "            print(\"Problème non borné\")\n",
        "            return None,None\n",
        "        sdict = pivot_dictionary(sdict, xk, xs)\n",
        "        xk = find_entering_variable(sdict)\n",
        "    return sdict.z,sdict"
      ],
      "execution_count": 0,
      "outputs": []
    },
    {
      "cell_type": "markdown",
      "metadata": {
        "id": "sITjFbnJ-NiH",
        "colab_type": "text"
      },
      "source": [
        "**Exercice :** Vérifier que votre méthode `simplex_single_phase` trouve bien la solution optimale pour le \n",
        "problème défini dans la section **2.1**."
      ]
    },
    {
      "cell_type": "code",
      "metadata": {
        "id": "49JeD-Rk-NiJ",
        "colab_type": "code",
        "outputId": "47346cc3-077f-4484-f45e-d5506056eee2",
        "colab": {
          "base_uri": "https://localhost:8080/",
          "height": 344
        }
      },
      "source": [
        "z, d = simplex_single_phase(sdict)\n",
        "if z != None:\n",
        "    typeset()\n",
        "    print(\"Maximum : \",z)\n",
        "    d.display()"
      ],
      "execution_count": 17,
      "outputs": [
        {
          "output_type": "stream",
          "text": [
            "Sort de base  x_5\n",
            "Rentre en base  x_1\n",
            "Variables en bases :  x_3,x_4,x_1  et hors base :  x_2,x_5\n",
            "Sort de base  x_3\n",
            "Rentre en base  x_2\n",
            "Variables en bases :  x_1,x_4,x_2  et hors base :  x_5,x_3\n",
            "Sort de base  x_4\n",
            "Rentre en base  x_5\n",
            "Variables en bases :  x_2,x_1,x_5  et hors base :  x_3,x_4\n"
          ],
          "name": "stdout"
        },
        {
          "output_type": "display_data",
          "data": {
            "text/html": [
              "\n",
              "      <script src=\"https://www.gstatic.com/external_hosted/mathjax/latest/MathJax.js?config=TeX-AMS_HTML-full,Safe&delayStartupUntil=configured\"></script>\n",
              "      <script>\n",
              "        (() => {\n",
              "          const mathjax = window.MathJax;\n",
              "          mathjax.Hub.Config({\n",
              "          'tex2jax': {\n",
              "            'inlineMath': [['$', '$'], ['\\(', '\\)']],\n",
              "            'displayMath': [['$$', '$$'], ['\\[', '\\]']],\n",
              "            'processEscapes': true,\n",
              "            'processEnvironments': true,\n",
              "            'skipTags': ['script', 'noscript', 'style', 'textarea', 'code'],\n",
              "            'displayAlign': 'center',\n",
              "          },\n",
              "          'HTML-CSS': {\n",
              "            'styles': {'.MathJax_Display': {'margin': 0}},\n",
              "            'linebreaks': {'automatic': true},\n",
              "            // Disable to prevent OTF font loading, which aren't part of our\n",
              "            // distribution.\n",
              "            'imageFont': null,\n",
              "          },\n",
              "          'messageStyle': 'none'\n",
              "        });\n",
              "        mathjax.Hub.Configured();\n",
              "      })();\n",
              "      </script>\n",
              "      "
            ],
            "text/plain": [
              "<IPython.core.display.HTML object>"
            ]
          },
          "metadata": {
            "tags": []
          }
        },
        {
          "output_type": "stream",
          "text": [
            "Maximum :  33\n"
          ],
          "name": "stdout"
        },
        {
          "output_type": "display_data",
          "data": {
            "text/latex": "$$\\begin{array}{r||r|r|r|r|} & b & x_{3} & x_{4}\\\\\\hline x_{2} & 12 &\\frac{1}{2} & -\\frac{1}{2}\\\\x_{1} & 3 &-\\frac{3}{4} & \\frac{1}{4}\\\\x_{5} & 3 &\\frac{7}{4} & -\\frac{1}{4}\\\\\\hline\\hline z&33&-\\frac{5}{4}&-\\frac{1}{4}\\\\\\hline\\end{array}$$",
            "text/plain": [
              "<IPython.core.display.Math object>"
            ]
          },
          "metadata": {
            "tags": []
          }
        }
      ]
    },
    {
      "cell_type": "markdown",
      "metadata": {
        "id": "L4QanW4Z-NiO",
        "colab_type": "text"
      },
      "source": [
        "## 3. Implémentation de l'algorithme du simplexe en 2 phases en python\n",
        "\n",
        "### 3.1. Pré-calcul\n",
        "\n",
        "On considère maintenant le programme linéaire suivant :\n",
        "\n",
        "$$\n",
        "\\mathcal{P}=\\left(\\begin{array}{rrrlrlrl}\n",
        "\\max & z = & - x_1 & - &  x_2 & \\\\\n",
        "s.c. & & -3x_1 & - & 4x_2 &  \\leq & -12 \\\\\n",
        "& & 2x_1 &  +  & x_2 & \\leq & 4 \\\\\n",
        "& & \\rlap{x_j \\geq 0 \\quad j= 1,2}\n",
        "\\end{array}\\right.\n",
        "$$\n",
        "\n",
        "Dont la représentation graphique est donnée ci-dessous:\n",
        "    \n",
        "![simplex_2_phases.PNG](attachment:simplex_2_phases.PNG)\n",
        "        \n",
        "Le problème sous forme normale s'écrit :\n",
        "\n",
        "$$\n",
        "\\mathcal{P}=\\left(\\begin{array}{rrrlrlrlrl}\n",
        "\\max & z = & - x_1 & - &  x_2 & & & \\\\\n",
        "s.c. & & -3x_1 & - & 4x_2 & + & x_3 & = & -12 \\\\\n",
        "& & 2x_1 &  +  & x_2 & + & x_4 & = & 4 \\\\\n",
        "& & \\rlap{x_j \\geq 0 \\quad j= 1,2,3,4}\n",
        "\\end{array}\\right.\n",
        "$$\n",
        "\n",
        "La base $\\mathcal{B} = \\{x_3, x_4\\}$ n'est pas donc pas une base réalisable, mais on peut tout de même \n",
        "écrire un dictionnaire pour cette base:\n",
        "\n",
        "$$\n",
        "\\begin{array}{r||r|r|r|r|}\n",
        " & b & x_1 & x_2 \\\\\\hline\n",
        " x_3 & -12 & -3 & -4\\\\\n",
        " x_4 & 4 & 2 & 1\\\\\n",
        " z & 0 & -1 & -1\\\\\\hline\n",
        "\\end{array}\n",
        "$$\n",
        "\n",
        "**Exercice :** Construire en python le dictionnaire ci-dessus."
      ]
    },
    {
      "cell_type": "code",
      "metadata": {
        "id": "rc8HAJ5O-NiS",
        "colab_type": "code",
        "outputId": "b25dfc3f-491a-49ed-d093-cd299a8e02ef",
        "colab": {
          "base_uri": "https://localhost:8080/",
          "height": 118
        }
      },
      "source": [
        "# On construit un dictionnaire avec la nouvelle base:\n",
        "mdict = simplex_dictionary(B=[x3, x4], N=[x1,x2])\n",
        "\n",
        "# On définit les valeurs des variables b_i et des coefficients a_ij:\n",
        "mdict.b = {x3: -12, x4: 4}\n",
        "mdict.a = {\n",
        "    x3: {x1: 3, x2: 4},\n",
        "    x4: {x1: -2, x2: -1}\n",
        "}\n",
        "\n",
        "\n",
        "# On définit le nouvel objectif et les nouveaux coefficients:\n",
        "mdict.z = 0\n",
        "mdict.c = {\n",
        "    x1:-1,\n",
        "    x2:-1\n",
        "}\n",
        "\n",
        "# On affiche le dictionnaire:\n",
        "typeset()\n",
        "mdict.display()"
      ],
      "execution_count": 18,
      "outputs": [
        {
          "output_type": "display_data",
          "data": {
            "text/html": [
              "\n",
              "      <script src=\"https://www.gstatic.com/external_hosted/mathjax/latest/MathJax.js?config=TeX-AMS_HTML-full,Safe&delayStartupUntil=configured\"></script>\n",
              "      <script>\n",
              "        (() => {\n",
              "          const mathjax = window.MathJax;\n",
              "          mathjax.Hub.Config({\n",
              "          'tex2jax': {\n",
              "            'inlineMath': [['$', '$'], ['\\(', '\\)']],\n",
              "            'displayMath': [['$$', '$$'], ['\\[', '\\]']],\n",
              "            'processEscapes': true,\n",
              "            'processEnvironments': true,\n",
              "            'skipTags': ['script', 'noscript', 'style', 'textarea', 'code'],\n",
              "            'displayAlign': 'center',\n",
              "          },\n",
              "          'HTML-CSS': {\n",
              "            'styles': {'.MathJax_Display': {'margin': 0}},\n",
              "            'linebreaks': {'automatic': true},\n",
              "            // Disable to prevent OTF font loading, which aren't part of our\n",
              "            // distribution.\n",
              "            'imageFont': null,\n",
              "          },\n",
              "          'messageStyle': 'none'\n",
              "        });\n",
              "        mathjax.Hub.Configured();\n",
              "      })();\n",
              "      </script>\n",
              "      "
            ],
            "text/plain": [
              "<IPython.core.display.HTML object>"
            ]
          },
          "metadata": {
            "tags": []
          }
        },
        {
          "output_type": "display_data",
          "data": {
            "text/latex": "$$\\begin{array}{r||r|r|r|} & b & x_{1} & x_{2}\\\\\\hline x_{3} & -12 &-3 & -4\\\\x_{4} & 4 &2 & 1\\\\\\hline\\hline z&0&-1&-1\\\\\\hline\\end{array}$$",
            "text/plain": [
              "<IPython.core.display.Math object>"
            ]
          },
          "metadata": {
            "tags": []
          }
        }
      ]
    },
    {
      "cell_type": "markdown",
      "metadata": {
        "id": "jfiV-7XV-Nij",
        "colab_type": "text"
      },
      "source": [
        "### 3.2. Vérification d'un dictionnaire\n",
        "\n",
        "On souhaite maintenant écrire une fonction `is_valid_dictionary` qui vérifie qu'une dictionnaire est valide, i.e., que toutes les variables de bases sont positives ou nulles.\n",
        "\n",
        "**Exercice :** Écrire la fonction `is_valid_dictionary` et vérifier qu'elle retourne `False` pour le dictionnaire défini ci-dessus."
      ]
    },
    {
      "cell_type": "code",
      "metadata": {
        "id": "qeNCKHi7-Nit",
        "colab_type": "code",
        "outputId": "3fba2620-dc8d-4ff2-8dc5-91e79c22b384",
        "colab": {
          "base_uri": "https://localhost:8080/",
          "height": 35
        }
      },
      "source": [
        "def is_valid_dictionary(sdict):\n",
        "    \"\"\" Check if the given dictionary is valid, i.e., if all the basic variables are positive or 0.\n",
        "    \n",
        "    Parameters:\n",
        "      - sdict  The dictionary to check.\n",
        "      \n",
        "    Return: True if the dictionary is valid, false otherwise.\n",
        "    \"\"\"\n",
        "    for x in sdict.b:\n",
        "        if sdict.b[x] < 0:\n",
        "            return False\n",
        "    return True\n",
        "\n",
        "is_valid_dictionary(mdict)"
      ],
      "execution_count": 19,
      "outputs": [
        {
          "output_type": "execute_result",
          "data": {
            "text/plain": [
              "False"
            ]
          },
          "metadata": {
            "tags": []
          },
          "execution_count": 19
        }
      ]
    },
    {
      "cell_type": "markdown",
      "metadata": {
        "id": "PWqP7sG1-Niw",
        "colab_type": "text"
      },
      "source": [
        "### 3.3. Recherche d'un dictionnaire initial valide\n",
        "\n",
        "Puisque le dictionnaire que l'on a construire à partir de la base triviale composée des variables d'écart\n",
        "n'est pas valide, il faut en trouver un valide, ou s'assurer qu'il n'en existe pas, auquel cas le problème\n",
        "original serait infaisable.\n",
        "\n",
        "Afin de trouver un dictionnaire valide, nous allons utiliser un programme linéaire auxiliaire en décomposant\n",
        "les variables d'écarts négatives en deux variables, e.g., $x_3' = x_3 - y$.\n",
        "\n",
        "**Exercice :** Écrire le programme linéaire auxiliaire correspond au problème sous forme normale ci-dessus, \n",
        "et le dictionnaire correspondant."
      ]
    },
    {
      "cell_type": "markdown",
      "metadata": {
        "id": "iewYD0YF9T-U",
        "colab_type": "text"
      },
      "source": [
        "$$\n",
        "\\mathcal{P}=\\left(\\begin{array}{rrrlrlrlrl}\n",
        "\\max & z = & - x_1 & - &  x_2 & & & \\\\\n",
        "s.c. & & -3x_1 & - & 4x_2 & + & x_3 & = & -12 \\\\\n",
        "& & 2x_1 &  +  & x_2 & + & x_4 & = & 4 \\\\\n",
        "& & \\rlap{x_j \\geq 0 \\quad j= 1,2,3,4}\n",
        "\\end{array}\\right.\n",
        "$$"
      ]
    },
    {
      "cell_type": "markdown",
      "metadata": {
        "id": "2y-jbwR5-Nix",
        "colab_type": "text"
      },
      "source": [
        "**<font color=\"red\">Réponse étudiant(e)s:</font>**"
      ]
    },
    {
      "cell_type": "markdown",
      "metadata": {
        "id": "SgG7RDhl6_2L",
        "colab_type": "text"
      },
      "source": [
        "$$\n",
        "\\mathcal{P}=\\left(\\begin{array}{rrrlrlrlrl}\n",
        "\\max & z = &  &  &   & & & -& y\\\\\n",
        "s.c. & & -3x_1 & - & 4x_2 & + & x_3 & - & y& & & = & -12 \\\\\n",
        "& & 2x_1 &  +  & x_2 &  & & & & + & x_4 & = & 4 \\\\\n",
        "& & \\rlap{x_j \\geq 0 \\quad j= 1,2,3,4 , y \\geq 0}\n",
        "\\end{array}\\right.\n",
        "$$"
      ]
    },
    {
      "cell_type": "markdown",
      "metadata": {
        "id": "NNaDLHkrR8Jz",
        "colab_type": "text"
      },
      "source": [
        "$$\n",
        "\\begin{array}{r||r|r|r|r|}\n",
        " & b & x_1 & x_2 & x_3\\\\\\hline\n",
        " y & 12 & 3 & 4 &-1\\\\\n",
        " x_4 & 4& 2 & 1 & 0\\\\\n",
        " z & 12 & 3 & 4 & -1\\\\\\hline\n",
        "\\end{array}\n",
        "$$"
      ]
    },
    {
      "cell_type": "markdown",
      "metadata": {
        "id": "kMjonfBv-Niy",
        "colab_type": "text"
      },
      "source": [
        "**Exercire :** Écrire la fonction `make_auxiliary_dictionary` en python qui, à partir d'un dictionnaire non-valide,\n",
        "construit le dictionnaire du programme linéaire auxiliaire associé. Vérifier que l'appel `make_auxiliary_dictionary(mdict)` retourne le dictionnaire écrit ci-dessus.\n",
        "\n",
        "On nommera les variables auxiliaires $y_1$, $y_2$, $\\ldots{}$."
      ]
    },
    {
      "cell_type": "code",
      "metadata": {
        "id": "japzRxRq6bup",
        "colab_type": "code",
        "colab": {
          "base_uri": "https://localhost:8080/",
          "height": 136
        },
        "outputId": "2a9f0040-45c3-4786-9dd7-4e2e990d45ca"
      },
      "source": [
        "typeset()\n",
        "mdict.display()\n",
        "print(mdict.b)"
      ],
      "execution_count": 24,
      "outputs": [
        {
          "output_type": "display_data",
          "data": {
            "text/html": [
              "\n",
              "      <script src=\"https://www.gstatic.com/external_hosted/mathjax/latest/MathJax.js?config=TeX-AMS_HTML-full,Safe&delayStartupUntil=configured\"></script>\n",
              "      <script>\n",
              "        (() => {\n",
              "          const mathjax = window.MathJax;\n",
              "          mathjax.Hub.Config({\n",
              "          'tex2jax': {\n",
              "            'inlineMath': [['$', '$'], ['\\(', '\\)']],\n",
              "            'displayMath': [['$$', '$$'], ['\\[', '\\]']],\n",
              "            'processEscapes': true,\n",
              "            'processEnvironments': true,\n",
              "            'skipTags': ['script', 'noscript', 'style', 'textarea', 'code'],\n",
              "            'displayAlign': 'center',\n",
              "          },\n",
              "          'HTML-CSS': {\n",
              "            'styles': {'.MathJax_Display': {'margin': 0}},\n",
              "            'linebreaks': {'automatic': true},\n",
              "            // Disable to prevent OTF font loading, which aren't part of our\n",
              "            // distribution.\n",
              "            'imageFont': null,\n",
              "          },\n",
              "          'messageStyle': 'none'\n",
              "        });\n",
              "        mathjax.Hub.Configured();\n",
              "      })();\n",
              "      </script>\n",
              "      "
            ],
            "text/plain": [
              "<IPython.core.display.HTML object>"
            ]
          },
          "metadata": {
            "tags": []
          }
        },
        {
          "output_type": "display_data",
          "data": {
            "text/latex": "$$\\begin{array}{r||r|r|r|} & b & x_{1} & x_{2}\\\\\\hline x_{3} & -12 &-3 & -4\\\\x_{4} & 4 &2 & 1\\\\\\hline\\hline z&0&-1&-1\\\\\\hline\\end{array}$$",
            "text/plain": [
              "<IPython.core.display.Math object>"
            ]
          },
          "metadata": {
            "tags": []
          }
        },
        {
          "output_type": "stream",
          "text": [
            "{'x_3': Fraction(-12, 1), 'x_4': Fraction(4, 1)}\n"
          ],
          "name": "stdout"
        }
      ]
    },
    {
      "cell_type": "code",
      "metadata": {
        "id": "TGNnaH0a-Ni0",
        "colab_type": "code",
        "colab": {}
      },
      "source": [
        "def make_auxiliary_dictionary(sdict):\n",
        "    \"\"\" Create the initial dictionary of the auxiliary program from the given\n",
        "    dictionary.\n",
        "    \n",
        "    Parameters:\n",
        "      - sdict  The dictionary of the original linear program.\n",
        "      \n",
        "    Return: The initial dictionary of the auxiliary linear program.\n",
        "    \"\"\"\n",
        "    ligne_invalide = []\n",
        "    ligne_valide = []\n",
        "    Ly = []\n",
        "    for x in sdict.b:\n",
        "        if sdict.b[x] < 0:# ligne invalide\n",
        "            ligne_invalide.append(x)\n",
        "            Ly.append('y_%d'%(len(Ly)+1))\n",
        "        else:\n",
        "            ligne_valide.append(x)\n",
        "    print(\"ligne valide : \",ligne_valide)\n",
        "    print(\"ligne invalide : \",ligne_invalide)\n",
        "    N = [k for k,v in sdict.c.items()]+ligne_invalide\n",
        "    B = Ly + ligne_valide\n",
        "    print(\"B : \",B)\n",
        "    print(\"N : \",N)\n",
        "    ndict = simplex_dictionary(B=B, N=N)\n",
        "    # ndict.display()\n",
        "    # # On définit les valeurs des variables b_i et des coefficients a_ij:\n",
        "    for l in ligne_valide:\n",
        "        dicta = {k:v for k,v in sdict.a[l].items()}\n",
        "        dicta.update({k:0 for k in ligne_invalide})\n",
        "        ndict.a[l] = dicta\n",
        "        ndict.b[l] = sdict.b[l]\n",
        "    for i,l in enumerate(ligne_invalide):\n",
        "        d1 = {k:-1*v for k,v in sdict.a[l].items()}\n",
        "        d2 = {l:1}\n",
        "        d1.update(d2)# Groupe deux dictionnaires\n",
        "        ndict.a[Ly[i]] = d1\n",
        "        ndict.b[Ly[i]] = sdict.b[l]*-1\n",
        "    dictc = {k:0 for k in N}\n",
        "    z = 0\n",
        "    for i,l in enumerate(ligne_invalide):\n",
        "        for k,v in ndict.a[Ly[i]].items():\n",
        "            dictc[k] += -ndict.a[Ly[i]][k]\n",
        "        z += ndict.b[Ly[i]]\n",
        "    ndict.c = dictc\n",
        "    ndict.z = z\n",
        "    print(\"a : \",ndict.a)\n",
        "    print(\"b : \",ndict.b)\n",
        "    print(\"c : \",ndict.c)\n",
        "    print(\"z : \",ndict.z)\n",
        "    return ndict"
      ],
      "execution_count": 0,
      "outputs": []
    },
    {
      "cell_type": "code",
      "metadata": {
        "id": "2ZqI4AQA-Ni3",
        "colab_type": "code",
        "outputId": "5a314a5d-6efe-42c7-b3c1-810fc2903ca5",
        "colab": {
          "base_uri": "https://localhost:8080/",
          "height": 416
        }
      },
      "source": [
        "ndict = make_auxiliary_dictionary(mdict)\n",
        "typeset()\n",
        "ndict.display()"
      ],
      "execution_count": 86,
      "outputs": [
        {
          "output_type": "stream",
          "text": [
            "ligne valide :  ['x_4']\n",
            "ligne invalide :  ['x_3']\n",
            "B :  ['y_1', 'x_4']\n",
            "N :  ['x_1', 'x_2', 'x_3']\n",
            "a :  {'x_4': {'x_1': Fraction(-2, 1), 'x_2': Fraction(-1, 1), 'x_3': Fraction(0, 1)}, 'y_1': {'x_1': Fraction(-3, 1), 'x_2': Fraction(-4, 1), 'x_3': Fraction(1, 1)}}\n",
            "b :  {'x_4': Fraction(4, 1), 'y_1': Fraction(12, 1)}\n",
            "c :  {'x_1': Fraction(3, 1), 'x_2': Fraction(4, 1), 'x_3': Fraction(-1, 1)}\n",
            "z :  12\n"
          ],
          "name": "stdout"
        },
        {
          "output_type": "display_data",
          "data": {
            "text/html": [
              "\n",
              "      <script src=\"https://www.gstatic.com/external_hosted/mathjax/latest/MathJax.js?config=TeX-AMS_HTML-full,Safe&delayStartupUntil=configured\"></script>\n",
              "      <script>\n",
              "        (() => {\n",
              "          const mathjax = window.MathJax;\n",
              "          mathjax.Hub.Config({\n",
              "          'tex2jax': {\n",
              "            'inlineMath': [['$', '$'], ['\\(', '\\)']],\n",
              "            'displayMath': [['$$', '$$'], ['\\[', '\\]']],\n",
              "            'processEscapes': true,\n",
              "            'processEnvironments': true,\n",
              "            'skipTags': ['script', 'noscript', 'style', 'textarea', 'code'],\n",
              "            'displayAlign': 'center',\n",
              "          },\n",
              "          'HTML-CSS': {\n",
              "            'styles': {'.MathJax_Display': {'margin': 0}},\n",
              "            'linebreaks': {'automatic': true},\n",
              "            // Disable to prevent OTF font loading, which aren't part of our\n",
              "            // distribution.\n",
              "            'imageFont': null,\n",
              "          },\n",
              "          'messageStyle': 'none'\n",
              "        });\n",
              "        mathjax.Hub.Configured();\n",
              "      })();\n",
              "      </script>\n",
              "      "
            ],
            "text/plain": [
              "<IPython.core.display.HTML object>"
            ]
          },
          "metadata": {
            "tags": []
          }
        },
        {
          "output_type": "display_data",
          "data": {
            "text/latex": "$$\\begin{array}{r||r|r|r|} & b & x_{1} & x_{2} & x_{3}\\\\\\hline y_{1} & 12 &3 & 4 & -1\\\\x_{4} & 4 &2 & 1 & 0\\\\\\hline\\hline z&12&3&4&-1\\\\\\hline\\end{array}$$",
            "text/plain": [
              "<IPython.core.display.Math object>"
            ]
          },
          "metadata": {
            "tags": []
          }
        }
      ]
    },
    {
      "cell_type": "markdown",
      "metadata": {
        "id": "m4QFB3mq-Ni9",
        "colab_type": "text"
      },
      "source": [
        "**Exercice :** En utilisant la fonction `simplex_single_phase` définie dans la section précédente, \n",
        "résoudre le problème auxiliaire."
      ]
    },
    {
      "cell_type": "code",
      "metadata": {
        "id": "60pmKOYT-Ni9",
        "colab_type": "code",
        "colab": {}
      },
      "source": [
        ""
      ],
      "execution_count": 0,
      "outputs": []
    },
    {
      "cell_type": "markdown",
      "metadata": {
        "id": "1UCHnKy--NjC",
        "colab_type": "text"
      },
      "source": [
        "### 3.4. Phase 1 de l'algorithme du simplexe\n",
        "\n",
        "\n",
        "**Question :** Comment détecte-t-on que le problème original n'a pas de solution ?"
      ]
    },
    {
      "cell_type": "markdown",
      "metadata": {
        "id": "Iv0dlgEu-NjD",
        "colab_type": "text"
      },
      "source": [
        "**Exercice :** Écrire la fonction `simplex_initial_phase` qui, étant donné un dictionnaire (valide ou non), \n",
        "retourne soit un dictionnaire valide pour le problème, soit `None` si le problème est infaisable."
      ]
    },
    {
      "cell_type": "code",
      "metadata": {
        "id": "Lu0KdcUb-NjE",
        "colab_type": "code",
        "colab": {}
      },
      "source": [
        "def simplex_initial_phase(sdict, log=False):\n",
        "    \"\"\" Create a valid dictionary corresponding to the same problem as the given dictionary, \n",
        "    if possible.\n",
        "    \n",
        "    Parameters:\n",
        "      - sdict  The initial dictionary to start from.\n",
        "      \n",
        "    Return: A valid dictionary corresponding to the same program as sdict, or None if the linear\n",
        "    program is invalid.\n",
        "    \"\"\"\n",
        "    pass"
      ],
      "execution_count": 0,
      "outputs": []
    },
    {
      "cell_type": "markdown",
      "metadata": {
        "id": "V4xgZ5CG-NjF",
        "colab_type": "text"
      },
      "source": [
        "**Exercice:** Utiliser la méthode `simplex_initial_phase` pour obtenir un dictionnaire valide pour le problème défini dans la section **3.1**."
      ]
    },
    {
      "cell_type": "code",
      "metadata": {
        "id": "Ae-XDIfL-NjG",
        "colab_type": "code",
        "colab": {}
      },
      "source": [
        ""
      ],
      "execution_count": 0,
      "outputs": []
    },
    {
      "cell_type": "markdown",
      "metadata": {
        "id": "H2JGZ9Ur-NjL",
        "colab_type": "text"
      },
      "source": [
        "# 4. Algorithme du simplexe en python\n",
        "\n",
        "**Exercice :** En utilisant les méthodes définies ci-dessus, écrire la fonction `simplex_algorithm` qui, à partir d'un dictionnaire (valide ou non), retourne un tuple `(z, x, d)` où `z` contient la valeur de l'objectif (maximisation), `x` un mapping (python's `dict`) entre les variables et leurs valeurs et `d` est le dictionnaire final. \n",
        "\n",
        "**Note :** On lèvera les exceptions `InfeasibleProgram` ou  `UnboundedProgram` si le problème est infaisable ou non-\n",
        "borné.\n",
        "\n",
        "<div class=\"alert alert-block alert-info\">\n",
        "    \n",
        "Pour lever une instruction en python, on utilise le mot-clé `raise`:\n",
        "\n",
        "```python\n",
        "raise InfeasibleProgram()\n",
        "```\n",
        "\n",
        "</div>"
      ]
    },
    {
      "cell_type": "code",
      "metadata": {
        "id": "1DusfTDU-NjM",
        "colab_type": "code",
        "colab": {}
      },
      "source": [
        "class InfeasibleProgram(Exception): pass\n",
        "class UnboundedProgram(Exception): pass\n",
        "\n",
        "def simplex_algorithm(sdict, log=False):\n",
        "    \"\"\" Solve the linear program corresponding to the given simplex dictionary.\n",
        "    \n",
        "    Parameters:\n",
        "      - sdict  The initial simplex dictionary. May be invalid.\n",
        "      \n",
        "    Return: A tuple (z, x, d) where z is the optimal value of the objective function, and\n",
        "    x is a mapping (python dictionary) from variables to their value.\n",
        "    \n",
        "    Raise:\n",
        "      - InfeasibleProgram if the program corresponding to the dictionary is infeasible.\n",
        "      - UnboundedProgram if the program corresponding to the dictionary is not bounded.\n",
        "    \"\"\"\n",
        "    pass"
      ],
      "execution_count": 0,
      "outputs": []
    },
    {
      "cell_type": "code",
      "metadata": {
        "id": "CP0wrJK3-NjN",
        "colab_type": "code",
        "colab": {}
      },
      "source": [
        "z, x, d = simplex_algorithm(sdict)\n",
        "d.display()"
      ],
      "execution_count": 0,
      "outputs": []
    }
  ]
}